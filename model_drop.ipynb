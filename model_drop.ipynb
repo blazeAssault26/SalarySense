{
 "cells": [
  {
   "cell_type": "code",
   "execution_count": 1,
   "id": "c7178c92-0e51-4cf7-8976-2569194f7982",
   "metadata": {},
   "outputs": [
    {
     "name": "stdout",
     "output_type": "stream",
     "text": [
      "Requirement already satisfied: xgboost in c:\\users\\anmol\\anaconda3\\envs\\sde\\lib\\site-packages (2.0.3)\n",
      "Requirement already satisfied: numpy in c:\\users\\anmol\\anaconda3\\envs\\sde\\lib\\site-packages (from xgboost) (1.26.4)\n",
      "Requirement already satisfied: scipy in c:\\users\\anmol\\anaconda3\\envs\\sde\\lib\\site-packages (from xgboost) (1.13.0)\n",
      "Requirement already satisfied: lightgbm in c:\\users\\anmol\\anaconda3\\envs\\sde\\lib\\site-packages (4.3.0)\n",
      "Requirement already satisfied: numpy in c:\\users\\anmol\\anaconda3\\envs\\sde\\lib\\site-packages (from lightgbm) (1.26.4)\n",
      "Requirement already satisfied: scipy in c:\\users\\anmol\\anaconda3\\envs\\sde\\lib\\site-packages (from lightgbm) (1.13.0)\n",
      "Requirement already satisfied: catboost in c:\\users\\anmol\\anaconda3\\envs\\sde\\lib\\site-packages (1.2.5)\n",
      "Requirement already satisfied: graphviz in c:\\users\\anmol\\anaconda3\\envs\\sde\\lib\\site-packages (from catboost) (0.20.3)\n",
      "Requirement already satisfied: matplotlib in c:\\users\\anmol\\anaconda3\\envs\\sde\\lib\\site-packages (from catboost) (3.8.4)\n",
      "Requirement already satisfied: numpy>=1.16.0 in c:\\users\\anmol\\anaconda3\\envs\\sde\\lib\\site-packages (from catboost) (1.26.4)\n",
      "Requirement already satisfied: pandas>=0.24 in c:\\users\\anmol\\anaconda3\\envs\\sde\\lib\\site-packages (from catboost) (2.2.1)\n",
      "Requirement already satisfied: scipy in c:\\users\\anmol\\anaconda3\\envs\\sde\\lib\\site-packages (from catboost) (1.13.0)\n",
      "Requirement already satisfied: plotly in c:\\users\\anmol\\anaconda3\\envs\\sde\\lib\\site-packages (from catboost) (5.21.0)\n",
      "Requirement already satisfied: six in c:\\users\\anmol\\anaconda3\\envs\\sde\\lib\\site-packages (from catboost) (1.16.0)\n",
      "Requirement already satisfied: python-dateutil>=2.8.2 in c:\\users\\anmol\\anaconda3\\envs\\sde\\lib\\site-packages (from pandas>=0.24->catboost) (2.8.2)\n",
      "Requirement already satisfied: pytz>=2020.1 in c:\\users\\anmol\\anaconda3\\envs\\sde\\lib\\site-packages (from pandas>=0.24->catboost) (2024.1)\n",
      "Requirement already satisfied: tzdata>=2022.7 in c:\\users\\anmol\\anaconda3\\envs\\sde\\lib\\site-packages (from pandas>=0.24->catboost) (2023.3)\n",
      "Requirement already satisfied: contourpy>=1.0.1 in c:\\users\\anmol\\anaconda3\\envs\\sde\\lib\\site-packages (from matplotlib->catboost) (1.2.0)\n",
      "Requirement already satisfied: cycler>=0.10 in c:\\users\\anmol\\anaconda3\\envs\\sde\\lib\\site-packages (from matplotlib->catboost) (0.11.0)\n",
      "Requirement already satisfied: fonttools>=4.22.0 in c:\\users\\anmol\\anaconda3\\envs\\sde\\lib\\site-packages (from matplotlib->catboost) (4.51.0)\n",
      "Requirement already satisfied: kiwisolver>=1.3.1 in c:\\users\\anmol\\anaconda3\\envs\\sde\\lib\\site-packages (from matplotlib->catboost) (1.4.4)\n",
      "Requirement already satisfied: packaging>=20.0 in c:\\users\\anmol\\anaconda3\\envs\\sde\\lib\\site-packages (from matplotlib->catboost) (23.2)\n",
      "Requirement already satisfied: pillow>=8 in c:\\users\\anmol\\anaconda3\\envs\\sde\\lib\\site-packages (from matplotlib->catboost) (10.3.0)\n",
      "Requirement already satisfied: pyparsing>=2.3.1 in c:\\users\\anmol\\anaconda3\\envs\\sde\\lib\\site-packages (from matplotlib->catboost) (3.0.9)\n",
      "Requirement already satisfied: importlib-resources>=3.2.0 in c:\\users\\anmol\\anaconda3\\envs\\sde\\lib\\site-packages (from matplotlib->catboost) (6.1.1)\n",
      "Requirement already satisfied: tenacity>=6.2.0 in c:\\users\\anmol\\anaconda3\\envs\\sde\\lib\\site-packages (from plotly->catboost) (8.2.2)\n",
      "Requirement already satisfied: zipp>=3.1.0 in c:\\users\\anmol\\anaconda3\\envs\\sde\\lib\\site-packages (from importlib-resources>=3.2.0->matplotlib->catboost) (3.17.0)\n"
     ]
    }
   ],
   "source": [
    "import pandas as pd\n",
    "import numpy as np\n",
    "import time\n",
    "import pickle\n",
    "!pip install xgboost\n",
    "!pip install lightgbm\n",
    "!pip install catboost\n",
    "\n",
    "\n",
    "\n",
    "from sklearn.model_selection import train_test_split, cross_val_score\n",
    "from sklearn.metrics import accuracy_score, precision_score, f1_score, roc_auc_score, precision_score, recall_score, classification_report\n",
    "from sklearn.preprocessing import StandardScaler, MinMaxScaler, LabelEncoder\n",
    "from sklearn.svm import LinearSVC, SVC\n",
    "from sklearn.naive_bayes import BernoulliNB, MultinomialNB\n",
    "from sklearn.linear_model import LinearRegression, Ridge, Lasso\n",
    "from sklearn.tree import DecisionTreeRegressor\n",
    "from sklearn.ensemble import RandomForestRegressor\n",
    "from xgboost import XGBRegressor\n",
    "from lightgbm import LGBMRegressor\n",
    "from catboost import CatBoostRegressor\n",
    "from sklearn.metrics import mean_squared_error, r2_score\n",
    "from sklearn.metrics import mean_absolute_error, mean_squared_error, r2_score"
   ]
  },
  {
   "cell_type": "code",
   "execution_count": 2,
   "id": "3f3ff410-0bc2-47d6-bdef-bfab8bd010c6",
   "metadata": {},
   "outputs": [],
   "source": [
    "#READ THE DATA FILE\n",
    "df1 = pd.read_csv(\"C:/Users/anmol/Downloads/SalarySense/survey_results_public.csv\")"
   ]
  },
  {
   "cell_type": "code",
   "execution_count": 3,
   "id": "f407321c-02b7-4b8a-aa97-e82c8ed1a777",
   "metadata": {},
   "outputs": [],
   "source": [
    "#ADD COLUMNS HERE\n",
    "\n",
    "#Employment Column Additions\n",
    "column_name = \"Employment\"\n",
    "st = set()\n",
    "for i in range (0,len(df1)):\n",
    "    value = str(df1[column_name].iloc[i])\n",
    "    if(value == \"nan\"):continue\n",
    "    l = value.split(\";\")\n",
    "    for ele in l:\n",
    "        st.add(ele)\n",
    "for ele in st:\n",
    "    df1[ele] = 0\n",
    "    \n",
    "for i in range (0,len(df1)):\n",
    "    value = str(df1[column_name].iloc[i])\n",
    "    if(value == \"nan\"):continue\n",
    "    l = value.split(\";\")\n",
    "    for ele in l:\n",
    "        df1.loc[i,ele] = 1\n"
   ]
  },
  {
   "cell_type": "code",
   "execution_count": 4,
   "id": "26fa1a68-6a56-443d-a62a-fbc86e4ba721",
   "metadata": {},
   "outputs": [],
   "source": [
    "#Countries filtered out if not India\n",
    "df1 = df1[df1[\"Industry\"] == \"Information Services, IT, Software Development, or other Technology\"]\n",
    "#Industries filtered out if not Information Services, IT, Software Development, or other Technology\n",
    "df1 = df1[df1[\"Country\"] == \"India\"]\n"
   ]
  },
  {
   "cell_type": "code",
   "execution_count": 6,
   "id": "a6b653d8-5919-43b4-85c9-7b7d18a59cf3",
   "metadata": {},
   "outputs": [],
   "source": [
    "#Number of Languages known\n",
    "column_name = \"LanguageHaveWorkedWith\"\n",
    "def languagecount(row):\n",
    "    value = str(row[column_name]).split(\";\")\n",
    "    if(value[0] == \"nan\"):return 0\n",
    "    return len(value)\n",
    "df1[\"NumberOfLanguagesKnown\"] = df1.apply(languagecount,axis = 1)\n",
    "\n",
    "#Number of Languages known\n",
    "column_name = \"PlatformHaveWorkedWith\"\n",
    "def platformcount(row):\n",
    "    value = str(row[column_name]).split(\";\")\n",
    "    if(value[0] == \"nan\"):return 0\n",
    "    return len(value)\n",
    "df1[\"NumberOfPlatformsKnown\"] = df1.apply(platformcount,axis = 1)\n",
    "\n",
    "#Number of Languages known\n",
    "column_name = \"WebframeHaveWorkedWith\"\n",
    "def webframecount(row):\n",
    "    value = str(row[column_name]).split(\";\")\n",
    "    if(value[0] == \"nan\"):return 0\n",
    "    return len(value)\n",
    "df1[\"NumberOfWebframesKnown\"] = df1.apply(webframecount,axis = 1)\n",
    "\n",
    "#Number of Languages known\n",
    "column_name = \"MiscTechHaveWorkedWith\"\n",
    "def misctechcount(row):\n",
    "    value = str(row[column_name]).split(\";\")\n",
    "    if(value[0] == \"nan\"):return 0\n",
    "    return len(value)\n",
    "df1[\"NumberOfMiscTechsKnown\"] = df1.apply(misctechcount,axis = 1)"
   ]
  },
  {
   "cell_type": "code",
   "execution_count": 7,
   "id": "df03fdf2-6aa5-468f-9637-aca3d5f70deb",
   "metadata": {},
   "outputs": [],
   "source": [
    "columns_selected =  [\n",
    "   'Age',\n",
    "   'OrgSize',\n",
    "   'DevType',\n",
    "   'YearsCode',\n",
    "   'WorkExp', \n",
    "   \"RemoteWork\",\n",
    "   'Currency',\n",
    "   \"EdLevel\",\n",
    "   \"ConvertedCompYearly\",\n",
    "   \"NumberOfLanguagesKnown\",\n",
    "   # \"NumberOfPlatformsKnown\",\n",
    "   # \"NumberOfWebframesKnown\",\n",
    "   # \"NumberOfMiscTechsKnown\",\n",
    "]\n",
    "\n",
    "train_columns = [\n",
    "   'Age',\n",
    "   'OrgSize',\n",
    "   'DevType',\n",
    "   'Currency',\n",
    "   \"EdLevel\",\n",
    "   \"ExperienceCategory\",\n",
    "   \"YearsCodeCategory\",\n",
    "   \"NumberOfLanguagesKnown\",\n",
    "   # \"NumberOfPlatformsKnown\",\n",
    "   # \"NumberOfWebframesKnown\",\n",
    "   # \"NumberOfMiscTechsKnown\",\n",
    "]\n",
    "\n",
    "df1 = df1[columns_selected]\n",
    "\n",
    "df1 = df1.dropna()"
   ]
  },
  {
   "cell_type": "code",
   "execution_count": 8,
   "id": "ef401b2e-fe34-4e0b-aad4-ed43f79499e5",
   "metadata": {},
   "outputs": [],
   "source": [
    "#CATEGORISE COLUMNS  INTO MAJORITY VALUES AND 'OTHER'\n",
    "def shorten_categories(categories, cutoff):\n",
    "    categorical_map = {}\n",
    "    for i in range(len(categories)):\n",
    "        if categories.values[i] >= cutoff:\n",
    "            categorical_map[categories.index[i]] = categories.index[i]\n",
    "        else:\n",
    "            categorical_map[categories.index[i]] = 'Other'\n",
    "    return categorical_map\n",
    "\n",
    "\n",
    "currency_map = shorten_categories(df1.Currency.value_counts(), 400)\n",
    "df1['Currency'] = df1['Currency'].map(currency_map)"
   ]
  },
  {
   "cell_type": "code",
   "execution_count": 9,
   "id": "b3107c24-afce-4025-b080-7fe405ed73c2",
   "metadata": {},
   "outputs": [],
   "source": [
    "#CATEGORISE THE WORK EXPERIENCE INTO BINS\n",
    "bins = [0, 2, 5, 10, 20, 30, 40, 50, float('inf')]  # Define custom bin edges\n",
    "labels = [0, 1, 2, 3, 4, 5, 6, 7]  # Define labels\n",
    "\n",
    "# Create a new column with the categories\n",
    "df1['ExperienceCategory'] = pd.cut(df1['WorkExp'], bins=bins, labels=labels)"
   ]
  },
  {
   "cell_type": "code",
   "execution_count": 10,
   "id": "7efa5fda-5a2b-4a28-a92f-56a2b8cde2b5",
   "metadata": {},
   "outputs": [],
   "source": [
    "#CATEGORISE LESS THAN 1 YEAR AS 0 AND MORE THAN 50 AS 51 FOR YEARS OF CODE\n",
    "df1['YearsCode'] = df1['YearsCode'].replace(\"Less than 1 year\", 0)\n",
    "df1['YearsCode'] = df1['YearsCode'].replace(\"More than 50 years\", 51)\n"
   ]
  },
  {
   "cell_type": "code",
   "execution_count": 11,
   "id": "c4047623-f6d3-4738-bde4-bf963ec37fe9",
   "metadata": {},
   "outputs": [],
   "source": [
    "#CATEGORISE YEARS OF CODE INTO BINS\n",
    "bins = [0, 2, 5, 10, 20, 30, 40, 50, float('inf')]  # Define custom bin edges\n",
    "labels = [0, 1, 2, 3, 4, 5, 6, 7]  # Define labels\n",
    "\n",
    "# Create a new column with the categories\n",
    "df1[\"YearsCode\"] = df1[\"YearsCode\"].astype(int)\n",
    "df1['YearsCodeCategory'] = pd.cut(df1['YearsCode'], bins=bins, labels=labels)"
   ]
  },
  {
   "cell_type": "code",
   "execution_count": 12,
   "id": "dc7d7fa2-b928-49ed-952c-98fba67de223",
   "metadata": {},
   "outputs": [],
   "source": [
    "#LABEL ENCODE THE COLUMNS\n",
    "label_encoders = {}\n",
    "df_LE = df1.copy()\n",
    "df_LE = df_LE.dropna()\n",
    "\n",
    "for i in train_columns:\n",
    "    if i == \"ConvertedCompYearly\":\n",
    "        continue\n",
    "        \n",
    "    label_encoders[i] = LabelEncoder()\n",
    "    df_LE[i] = label_encoders[i].fit_transform(df_LE[i])\n",
    "    \n",
    "    \n",
    "X = df_LE[train_columns]\n",
    "\n",
    "Y = df_LE[\"ConvertedCompYearly\"]"
   ]
  },
  {
   "cell_type": "code",
   "execution_count": 13,
   "id": "b01ce574-c8c3-41d0-b563-2615966877bd",
   "metadata": {},
   "outputs": [],
   "source": [
    "#TRAIN-TEST SPLIT\n",
    "X_train, X_test, y_train, y_test = train_test_split(\n",
    "    X, Y, test_size=0.1, random_state=42)\n",
    "\n",
    "scaler = StandardScaler()\n",
    "X_train_scaled = scaler.fit_transform(X_train)\n",
    "X_test_scaled = scaler.transform(X_test)"
   ]
  },
  {
   "cell_type": "code",
   "execution_count": 14,
   "id": "a111a9d3-dadb-4631-a43c-d3a1c77c5560",
   "metadata": {},
   "outputs": [],
   "source": [
    "classifiers = {\n",
    "    \"Linear Regression\": LinearRegression(),\n",
    "    \"Ridge\": Ridge(alpha=1.0),\n",
    "    \"Lasso\": Lasso(alpha=1.0),\n",
    "    \"Decision Tree\": DecisionTreeRegressor(),\n",
    "    \"Random Forest\": RandomForestRegressor(),\n",
    "}"
   ]
  },
  {
   "cell_type": "code",
   "execution_count": 15,
   "id": "191ea54c-5399-4dcf-9c7f-c563fab22804",
   "metadata": {},
   "outputs": [
    {
     "data": {
      "text/plain": [
       "[('Currency', 0.033092424297798836),\n",
       " ('Age', 0.05185821483402885),\n",
       " ('EdLevel', 0.0565644502032184),\n",
       " ('YearsCodeCategory', 0.08012277099372725),\n",
       " ('OrgSize', 0.1344069684650619),\n",
       " ('DevType', 0.18515024499010269),\n",
       " ('ExperienceCategory', 0.19743719759776382),\n",
       " ('NumberOfLanguagesKnown', 0.26136772861829827)]"
      ]
     },
     "execution_count": 15,
     "metadata": {},
     "output_type": "execute_result"
    }
   ],
   "source": [
    "#CHECK IMPORTANCE\n",
    "from sklearn.ensemble import RandomForestRegressor\n",
    "model = RandomForestRegressor()\n",
    "model.fit(X, Y)\n",
    "feature_importances = model.feature_importances_\n",
    "\n",
    "map_ = {}\n",
    "\n",
    "for i, a in enumerate(X):\n",
    "    map_[a] = feature_importances[i]\n",
    "    \n",
    "sorted(map_.items(), key = lambda x: x[1])"
   ]
  },
  {
   "cell_type": "code",
   "execution_count": 16,
   "id": "412cbaea-5a5a-4d01-98db-5124bb81d24c",
   "metadata": {},
   "outputs": [
    {
     "name": "stderr",
     "output_type": "stream",
     "text": [
      "C:\\Users\\anmol\\anaconda3\\envs\\sde\\lib\\site-packages\\sklearn\\metrics\\_regression.py:483: FutureWarning: 'squared' is deprecated in version 1.4 and will be removed in 1.6. To calculate the root mean squared error, use the function'root_mean_squared_error'.\n",
      "  warnings.warn(\n",
      "C:\\Users\\anmol\\AppData\\Local\\Temp\\ipykernel_13200\\4242813303.py:32: FutureWarning: The behavior of DataFrame concatenation with empty or all-NA entries is deprecated. In a future version, this will no longer exclude empty or all-NA columns when determining the result dtypes. To retain the old behavior, exclude the relevant entries before the concat operation.\n",
      "  df_models = pd.concat([df_models, pd.DataFrame([row])], ignore_index=True)\n",
      "C:\\Users\\anmol\\anaconda3\\envs\\sde\\lib\\site-packages\\sklearn\\metrics\\_regression.py:483: FutureWarning: 'squared' is deprecated in version 1.4 and will be removed in 1.6. To calculate the root mean squared error, use the function'root_mean_squared_error'.\n",
      "  warnings.warn(\n",
      "C:\\Users\\anmol\\anaconda3\\envs\\sde\\lib\\site-packages\\sklearn\\metrics\\_regression.py:483: FutureWarning: 'squared' is deprecated in version 1.4 and will be removed in 1.6. To calculate the root mean squared error, use the function'root_mean_squared_error'.\n",
      "  warnings.warn(\n",
      "C:\\Users\\anmol\\anaconda3\\envs\\sde\\lib\\site-packages\\sklearn\\metrics\\_regression.py:483: FutureWarning: 'squared' is deprecated in version 1.4 and will be removed in 1.6. To calculate the root mean squared error, use the function'root_mean_squared_error'.\n",
      "  warnings.warn(\n"
     ]
    },
    {
     "name": "stdout",
     "output_type": "stream",
     "text": [
      "               Model  Run Time (minutes)           MAE           MSE  \\\n",
      "0  Linear Regression                0.00  19454.983855  2.282155e+09   \n",
      "2              Lasso                0.00  19454.819851  2.282183e+09   \n",
      "1              Ridge                0.00  19454.417565  2.282269e+09   \n",
      "4      Random Forest                0.01  22092.239390  2.773640e+09   \n",
      "3      Decision Tree                0.00  26598.600379  3.667098e+09   \n",
      "\n",
      "           RMSE        R2  \n",
      "0  47771.905325  0.155833  \n",
      "2  47772.194164  0.155823  \n",
      "1  47773.097039  0.155791  \n",
      "4  52665.354266 -0.025967  \n",
      "3  60556.567347 -0.356456  \n"
     ]
    },
    {
     "name": "stderr",
     "output_type": "stream",
     "text": [
      "C:\\Users\\anmol\\anaconda3\\envs\\sde\\lib\\site-packages\\sklearn\\metrics\\_regression.py:483: FutureWarning: 'squared' is deprecated in version 1.4 and will be removed in 1.6. To calculate the root mean squared error, use the function'root_mean_squared_error'.\n",
      "  warnings.warn(\n"
     ]
    }
   ],
   "source": [
    "# Create an empty DataFrame to store the results\n",
    "columns = ['Model', 'Run Time (minutes)', 'MAE', 'MSE', 'RMSE', 'R2']\n",
    "df_models = pd.DataFrame(columns=columns)\n",
    "\n",
    "# Loop through your regression models\n",
    "for key, clf in classifiers.items():\n",
    "    # STARTING TIME\n",
    "    start_time = time.time()\n",
    "    # TRAIN CLASSIFIER ON TRAINING DATA\n",
    "    clf.fit(X_train_scaled, y_train)\n",
    "    \n",
    "    #SAVE THE TRAINED MODEL\n",
    "    classifiers[key] = clf\n",
    "    \n",
    "    # MAKE PREDICTIONS USING CURRENT CLASSIFIER\n",
    "    predictions = clf.predict(X_test_scaled)\n",
    "    \n",
    "    # CALCULATE REGRESSION METRICS\n",
    "    mae = mean_absolute_error(y_test, predictions)\n",
    "    mse = mean_squared_error(y_test, predictions)\n",
    "    rmse = mean_squared_error(y_test, predictions, squared=False)  # Calculate RMSE\n",
    "    r2 = r2_score(y_test, predictions)\n",
    "\n",
    "    row = {'Model': key,\n",
    "           'Run Time (minutes)': round((time.time() - start_time) / 60, 2),\n",
    "           'MAE': mae,\n",
    "           'MSE': mse,\n",
    "           'RMSE': rmse,\n",
    "           'R2': r2\n",
    "           }\n",
    "\n",
    "    df_models = pd.concat([df_models, pd.DataFrame([row])], ignore_index=True)\n",
    "\n",
    "# Sort the DataFrame by R-squared (R2) in descending order\n",
    "df_models = df_models.sort_values(by='R2', ascending=False)\n",
    "\n",
    "# PRINT THE MODELS WITH REGRESSION METRICS [SORTED]\n",
    "print(df_models)"
   ]
  },
  {
   "cell_type": "code",
   "execution_count": null,
   "id": "e9a40594-3c0d-4731-83b5-8e24059c82cc",
   "metadata": {},
   "outputs": [],
   "source": []
  },
  {
   "cell_type": "code",
   "execution_count": null,
   "id": "ee65fd8d-33e4-4055-9079-d7eb7c0a1454",
   "metadata": {},
   "outputs": [],
   "source": []
  }
 ],
 "metadata": {
  "kernelspec": {
   "display_name": "sde",
   "language": "python",
   "name": "sde"
  },
  "language_info": {
   "codemirror_mode": {
    "name": "ipython",
    "version": 3
   },
   "file_extension": ".py",
   "mimetype": "text/x-python",
   "name": "python",
   "nbconvert_exporter": "python",
   "pygments_lexer": "ipython3",
   "version": "3.9.19"
  }
 },
 "nbformat": 4,
 "nbformat_minor": 5
}
